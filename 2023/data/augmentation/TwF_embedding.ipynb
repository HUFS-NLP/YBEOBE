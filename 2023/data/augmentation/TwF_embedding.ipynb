{
  "nbformat": 4,
  "nbformat_minor": 0,
  "metadata": {
    "colab": {
      "provenance": [],
      "gpuType": "T4"
    },
    "kernelspec": {
      "name": "python3",
      "display_name": "Python 3"
    },
    "language_info": {
      "name": "python"
    },
    "accelerator": "GPU",
    "widgets": {
      "application/vnd.jupyter.widget-state+json": {
        "1d5329a1074a4fa0aafbc165dbc0aa5f": {
          "model_module": "@jupyter-widgets/controls",
          "model_name": "HBoxModel",
          "model_module_version": "1.5.0",
          "state": {
            "_dom_classes": [],
            "_model_module": "@jupyter-widgets/controls",
            "_model_module_version": "1.5.0",
            "_model_name": "HBoxModel",
            "_view_count": null,
            "_view_module": "@jupyter-widgets/controls",
            "_view_module_version": "1.5.0",
            "_view_name": "HBoxView",
            "box_style": "",
            "children": [
              "IPY_MODEL_21561970ae724abca43ff7beba2c30fb",
              "IPY_MODEL_2939850de5bd437fa5924b47f35162d1",
              "IPY_MODEL_58688651a4894197bc9e7cc57b0469ad"
            ],
            "layout": "IPY_MODEL_3d57190988f6494cbb33f81153e821ab"
          }
        },
        "21561970ae724abca43ff7beba2c30fb": {
          "model_module": "@jupyter-widgets/controls",
          "model_name": "HTMLModel",
          "model_module_version": "1.5.0",
          "state": {
            "_dom_classes": [],
            "_model_module": "@jupyter-widgets/controls",
            "_model_module_version": "1.5.0",
            "_model_name": "HTMLModel",
            "_view_count": null,
            "_view_module": "@jupyter-widgets/controls",
            "_view_module_version": "1.5.0",
            "_view_name": "HTMLView",
            "description": "",
            "description_tooltip": null,
            "layout": "IPY_MODEL_818d797bee5d46e1ae3433ef7fd96a8a",
            "placeholder": "​",
            "style": "IPY_MODEL_f122f04280e2446aa743dfd1c9415382",
            "value": "Downloading (…)solve/main/vocab.txt: 100%"
          }
        },
        "2939850de5bd437fa5924b47f35162d1": {
          "model_module": "@jupyter-widgets/controls",
          "model_name": "FloatProgressModel",
          "model_module_version": "1.5.0",
          "state": {
            "_dom_classes": [],
            "_model_module": "@jupyter-widgets/controls",
            "_model_module_version": "1.5.0",
            "_model_name": "FloatProgressModel",
            "_view_count": null,
            "_view_module": "@jupyter-widgets/controls",
            "_view_module_version": "1.5.0",
            "_view_name": "ProgressView",
            "bar_style": "success",
            "description": "",
            "description_tooltip": null,
            "layout": "IPY_MODEL_3e099c17315b4072ae0f712c8d47c6b1",
            "max": 263326,
            "min": 0,
            "orientation": "horizontal",
            "style": "IPY_MODEL_fc82f8d907b54160976ed782e6617143",
            "value": 263326
          }
        },
        "58688651a4894197bc9e7cc57b0469ad": {
          "model_module": "@jupyter-widgets/controls",
          "model_name": "HTMLModel",
          "model_module_version": "1.5.0",
          "state": {
            "_dom_classes": [],
            "_model_module": "@jupyter-widgets/controls",
            "_model_module_version": "1.5.0",
            "_model_name": "HTMLModel",
            "_view_count": null,
            "_view_module": "@jupyter-widgets/controls",
            "_view_module_version": "1.5.0",
            "_view_name": "HTMLView",
            "description": "",
            "description_tooltip": null,
            "layout": "IPY_MODEL_25f9577846c042a2a58cb1220596cb90",
            "placeholder": "​",
            "style": "IPY_MODEL_be6d0320eef64aaaa50d137d2e1a9396",
            "value": " 263k/263k [00:00&lt;00:00, 2.59MB/s]"
          }
        },
        "3d57190988f6494cbb33f81153e821ab": {
          "model_module": "@jupyter-widgets/base",
          "model_name": "LayoutModel",
          "model_module_version": "1.2.0",
          "state": {
            "_model_module": "@jupyter-widgets/base",
            "_model_module_version": "1.2.0",
            "_model_name": "LayoutModel",
            "_view_count": null,
            "_view_module": "@jupyter-widgets/base",
            "_view_module_version": "1.2.0",
            "_view_name": "LayoutView",
            "align_content": null,
            "align_items": null,
            "align_self": null,
            "border": null,
            "bottom": null,
            "display": null,
            "flex": null,
            "flex_flow": null,
            "grid_area": null,
            "grid_auto_columns": null,
            "grid_auto_flow": null,
            "grid_auto_rows": null,
            "grid_column": null,
            "grid_gap": null,
            "grid_row": null,
            "grid_template_areas": null,
            "grid_template_columns": null,
            "grid_template_rows": null,
            "height": null,
            "justify_content": null,
            "justify_items": null,
            "left": null,
            "margin": null,
            "max_height": null,
            "max_width": null,
            "min_height": null,
            "min_width": null,
            "object_fit": null,
            "object_position": null,
            "order": null,
            "overflow": null,
            "overflow_x": null,
            "overflow_y": null,
            "padding": null,
            "right": null,
            "top": null,
            "visibility": null,
            "width": null
          }
        },
        "818d797bee5d46e1ae3433ef7fd96a8a": {
          "model_module": "@jupyter-widgets/base",
          "model_name": "LayoutModel",
          "model_module_version": "1.2.0",
          "state": {
            "_model_module": "@jupyter-widgets/base",
            "_model_module_version": "1.2.0",
            "_model_name": "LayoutModel",
            "_view_count": null,
            "_view_module": "@jupyter-widgets/base",
            "_view_module_version": "1.2.0",
            "_view_name": "LayoutView",
            "align_content": null,
            "align_items": null,
            "align_self": null,
            "border": null,
            "bottom": null,
            "display": null,
            "flex": null,
            "flex_flow": null,
            "grid_area": null,
            "grid_auto_columns": null,
            "grid_auto_flow": null,
            "grid_auto_rows": null,
            "grid_column": null,
            "grid_gap": null,
            "grid_row": null,
            "grid_template_areas": null,
            "grid_template_columns": null,
            "grid_template_rows": null,
            "height": null,
            "justify_content": null,
            "justify_items": null,
            "left": null,
            "margin": null,
            "max_height": null,
            "max_width": null,
            "min_height": null,
            "min_width": null,
            "object_fit": null,
            "object_position": null,
            "order": null,
            "overflow": null,
            "overflow_x": null,
            "overflow_y": null,
            "padding": null,
            "right": null,
            "top": null,
            "visibility": null,
            "width": null
          }
        },
        "f122f04280e2446aa743dfd1c9415382": {
          "model_module": "@jupyter-widgets/controls",
          "model_name": "DescriptionStyleModel",
          "model_module_version": "1.5.0",
          "state": {
            "_model_module": "@jupyter-widgets/controls",
            "_model_module_version": "1.5.0",
            "_model_name": "DescriptionStyleModel",
            "_view_count": null,
            "_view_module": "@jupyter-widgets/base",
            "_view_module_version": "1.2.0",
            "_view_name": "StyleView",
            "description_width": ""
          }
        },
        "3e099c17315b4072ae0f712c8d47c6b1": {
          "model_module": "@jupyter-widgets/base",
          "model_name": "LayoutModel",
          "model_module_version": "1.2.0",
          "state": {
            "_model_module": "@jupyter-widgets/base",
            "_model_module_version": "1.2.0",
            "_model_name": "LayoutModel",
            "_view_count": null,
            "_view_module": "@jupyter-widgets/base",
            "_view_module_version": "1.2.0",
            "_view_name": "LayoutView",
            "align_content": null,
            "align_items": null,
            "align_self": null,
            "border": null,
            "bottom": null,
            "display": null,
            "flex": null,
            "flex_flow": null,
            "grid_area": null,
            "grid_auto_columns": null,
            "grid_auto_flow": null,
            "grid_auto_rows": null,
            "grid_column": null,
            "grid_gap": null,
            "grid_row": null,
            "grid_template_areas": null,
            "grid_template_columns": null,
            "grid_template_rows": null,
            "height": null,
            "justify_content": null,
            "justify_items": null,
            "left": null,
            "margin": null,
            "max_height": null,
            "max_width": null,
            "min_height": null,
            "min_width": null,
            "object_fit": null,
            "object_position": null,
            "order": null,
            "overflow": null,
            "overflow_x": null,
            "overflow_y": null,
            "padding": null,
            "right": null,
            "top": null,
            "visibility": null,
            "width": null
          }
        },
        "fc82f8d907b54160976ed782e6617143": {
          "model_module": "@jupyter-widgets/controls",
          "model_name": "ProgressStyleModel",
          "model_module_version": "1.5.0",
          "state": {
            "_model_module": "@jupyter-widgets/controls",
            "_model_module_version": "1.5.0",
            "_model_name": "ProgressStyleModel",
            "_view_count": null,
            "_view_module": "@jupyter-widgets/base",
            "_view_module_version": "1.2.0",
            "_view_name": "StyleView",
            "bar_color": null,
            "description_width": ""
          }
        },
        "25f9577846c042a2a58cb1220596cb90": {
          "model_module": "@jupyter-widgets/base",
          "model_name": "LayoutModel",
          "model_module_version": "1.2.0",
          "state": {
            "_model_module": "@jupyter-widgets/base",
            "_model_module_version": "1.2.0",
            "_model_name": "LayoutModel",
            "_view_count": null,
            "_view_module": "@jupyter-widgets/base",
            "_view_module_version": "1.2.0",
            "_view_name": "LayoutView",
            "align_content": null,
            "align_items": null,
            "align_self": null,
            "border": null,
            "bottom": null,
            "display": null,
            "flex": null,
            "flex_flow": null,
            "grid_area": null,
            "grid_auto_columns": null,
            "grid_auto_flow": null,
            "grid_auto_rows": null,
            "grid_column": null,
            "grid_gap": null,
            "grid_row": null,
            "grid_template_areas": null,
            "grid_template_columns": null,
            "grid_template_rows": null,
            "height": null,
            "justify_content": null,
            "justify_items": null,
            "left": null,
            "margin": null,
            "max_height": null,
            "max_width": null,
            "min_height": null,
            "min_width": null,
            "object_fit": null,
            "object_position": null,
            "order": null,
            "overflow": null,
            "overflow_x": null,
            "overflow_y": null,
            "padding": null,
            "right": null,
            "top": null,
            "visibility": null,
            "width": null
          }
        },
        "be6d0320eef64aaaa50d137d2e1a9396": {
          "model_module": "@jupyter-widgets/controls",
          "model_name": "DescriptionStyleModel",
          "model_module_version": "1.5.0",
          "state": {
            "_model_module": "@jupyter-widgets/controls",
            "_model_module_version": "1.5.0",
            "_model_name": "DescriptionStyleModel",
            "_view_count": null,
            "_view_module": "@jupyter-widgets/base",
            "_view_module_version": "1.2.0",
            "_view_name": "StyleView",
            "description_width": ""
          }
        },
        "aea2eb09406a40d8a3d203b7a47378b9": {
          "model_module": "@jupyter-widgets/controls",
          "model_name": "HBoxModel",
          "model_module_version": "1.5.0",
          "state": {
            "_dom_classes": [],
            "_model_module": "@jupyter-widgets/controls",
            "_model_module_version": "1.5.0",
            "_model_name": "HBoxModel",
            "_view_count": null,
            "_view_module": "@jupyter-widgets/controls",
            "_view_module_version": "1.5.0",
            "_view_name": "HBoxView",
            "box_style": "",
            "children": [
              "IPY_MODEL_73ce85d07f694da39522a4ff9b16ee6a",
              "IPY_MODEL_c83afc30fa324ff18c6ae146fb71bee5",
              "IPY_MODEL_1433eb559f464d5fb9471a92ed58f833"
            ],
            "layout": "IPY_MODEL_9174d142c2fe4b40a3bce9eb5377b48a"
          }
        },
        "73ce85d07f694da39522a4ff9b16ee6a": {
          "model_module": "@jupyter-widgets/controls",
          "model_name": "HTMLModel",
          "model_module_version": "1.5.0",
          "state": {
            "_dom_classes": [],
            "_model_module": "@jupyter-widgets/controls",
            "_model_module_version": "1.5.0",
            "_model_name": "HTMLModel",
            "_view_count": null,
            "_view_module": "@jupyter-widgets/controls",
            "_view_module_version": "1.5.0",
            "_view_name": "HTMLView",
            "description": "",
            "description_tooltip": null,
            "layout": "IPY_MODEL_cbbe62db60c04d31ba2b20eece660a83",
            "placeholder": "​",
            "style": "IPY_MODEL_1913bc2f4006451cbfdc5b13fd8d3f9d",
            "value": "Downloading (…)okenizer_config.json: 100%"
          }
        },
        "c83afc30fa324ff18c6ae146fb71bee5": {
          "model_module": "@jupyter-widgets/controls",
          "model_name": "FloatProgressModel",
          "model_module_version": "1.5.0",
          "state": {
            "_dom_classes": [],
            "_model_module": "@jupyter-widgets/controls",
            "_model_module_version": "1.5.0",
            "_model_name": "FloatProgressModel",
            "_view_count": null,
            "_view_module": "@jupyter-widgets/controls",
            "_view_module_version": "1.5.0",
            "_view_name": "ProgressView",
            "bar_style": "success",
            "description": "",
            "description_tooltip": null,
            "layout": "IPY_MODEL_07d6772a24be428bbec47b2d8d309a9d",
            "max": 61,
            "min": 0,
            "orientation": "horizontal",
            "style": "IPY_MODEL_6ac2dde9b00141ba8397a3e2fb441877",
            "value": 61
          }
        },
        "1433eb559f464d5fb9471a92ed58f833": {
          "model_module": "@jupyter-widgets/controls",
          "model_name": "HTMLModel",
          "model_module_version": "1.5.0",
          "state": {
            "_dom_classes": [],
            "_model_module": "@jupyter-widgets/controls",
            "_model_module_version": "1.5.0",
            "_model_name": "HTMLModel",
            "_view_count": null,
            "_view_module": "@jupyter-widgets/controls",
            "_view_module_version": "1.5.0",
            "_view_name": "HTMLView",
            "description": "",
            "description_tooltip": null,
            "layout": "IPY_MODEL_3408c889b81a4d5e8166ccaa5c4c4079",
            "placeholder": "​",
            "style": "IPY_MODEL_7fd5ab8e807a4b47823e1eeec2990a06",
            "value": " 61.0/61.0 [00:00&lt;00:00, 1.67kB/s]"
          }
        },
        "9174d142c2fe4b40a3bce9eb5377b48a": {
          "model_module": "@jupyter-widgets/base",
          "model_name": "LayoutModel",
          "model_module_version": "1.2.0",
          "state": {
            "_model_module": "@jupyter-widgets/base",
            "_model_module_version": "1.2.0",
            "_model_name": "LayoutModel",
            "_view_count": null,
            "_view_module": "@jupyter-widgets/base",
            "_view_module_version": "1.2.0",
            "_view_name": "LayoutView",
            "align_content": null,
            "align_items": null,
            "align_self": null,
            "border": null,
            "bottom": null,
            "display": null,
            "flex": null,
            "flex_flow": null,
            "grid_area": null,
            "grid_auto_columns": null,
            "grid_auto_flow": null,
            "grid_auto_rows": null,
            "grid_column": null,
            "grid_gap": null,
            "grid_row": null,
            "grid_template_areas": null,
            "grid_template_columns": null,
            "grid_template_rows": null,
            "height": null,
            "justify_content": null,
            "justify_items": null,
            "left": null,
            "margin": null,
            "max_height": null,
            "max_width": null,
            "min_height": null,
            "min_width": null,
            "object_fit": null,
            "object_position": null,
            "order": null,
            "overflow": null,
            "overflow_x": null,
            "overflow_y": null,
            "padding": null,
            "right": null,
            "top": null,
            "visibility": null,
            "width": null
          }
        },
        "cbbe62db60c04d31ba2b20eece660a83": {
          "model_module": "@jupyter-widgets/base",
          "model_name": "LayoutModel",
          "model_module_version": "1.2.0",
          "state": {
            "_model_module": "@jupyter-widgets/base",
            "_model_module_version": "1.2.0",
            "_model_name": "LayoutModel",
            "_view_count": null,
            "_view_module": "@jupyter-widgets/base",
            "_view_module_version": "1.2.0",
            "_view_name": "LayoutView",
            "align_content": null,
            "align_items": null,
            "align_self": null,
            "border": null,
            "bottom": null,
            "display": null,
            "flex": null,
            "flex_flow": null,
            "grid_area": null,
            "grid_auto_columns": null,
            "grid_auto_flow": null,
            "grid_auto_rows": null,
            "grid_column": null,
            "grid_gap": null,
            "grid_row": null,
            "grid_template_areas": null,
            "grid_template_columns": null,
            "grid_template_rows": null,
            "height": null,
            "justify_content": null,
            "justify_items": null,
            "left": null,
            "margin": null,
            "max_height": null,
            "max_width": null,
            "min_height": null,
            "min_width": null,
            "object_fit": null,
            "object_position": null,
            "order": null,
            "overflow": null,
            "overflow_x": null,
            "overflow_y": null,
            "padding": null,
            "right": null,
            "top": null,
            "visibility": null,
            "width": null
          }
        },
        "1913bc2f4006451cbfdc5b13fd8d3f9d": {
          "model_module": "@jupyter-widgets/controls",
          "model_name": "DescriptionStyleModel",
          "model_module_version": "1.5.0",
          "state": {
            "_model_module": "@jupyter-widgets/controls",
            "_model_module_version": "1.5.0",
            "_model_name": "DescriptionStyleModel",
            "_view_count": null,
            "_view_module": "@jupyter-widgets/base",
            "_view_module_version": "1.2.0",
            "_view_name": "StyleView",
            "description_width": ""
          }
        },
        "07d6772a24be428bbec47b2d8d309a9d": {
          "model_module": "@jupyter-widgets/base",
          "model_name": "LayoutModel",
          "model_module_version": "1.2.0",
          "state": {
            "_model_module": "@jupyter-widgets/base",
            "_model_module_version": "1.2.0",
            "_model_name": "LayoutModel",
            "_view_count": null,
            "_view_module": "@jupyter-widgets/base",
            "_view_module_version": "1.2.0",
            "_view_name": "LayoutView",
            "align_content": null,
            "align_items": null,
            "align_self": null,
            "border": null,
            "bottom": null,
            "display": null,
            "flex": null,
            "flex_flow": null,
            "grid_area": null,
            "grid_auto_columns": null,
            "grid_auto_flow": null,
            "grid_auto_rows": null,
            "grid_column": null,
            "grid_gap": null,
            "grid_row": null,
            "grid_template_areas": null,
            "grid_template_columns": null,
            "grid_template_rows": null,
            "height": null,
            "justify_content": null,
            "justify_items": null,
            "left": null,
            "margin": null,
            "max_height": null,
            "max_width": null,
            "min_height": null,
            "min_width": null,
            "object_fit": null,
            "object_position": null,
            "order": null,
            "overflow": null,
            "overflow_x": null,
            "overflow_y": null,
            "padding": null,
            "right": null,
            "top": null,
            "visibility": null,
            "width": null
          }
        },
        "6ac2dde9b00141ba8397a3e2fb441877": {
          "model_module": "@jupyter-widgets/controls",
          "model_name": "ProgressStyleModel",
          "model_module_version": "1.5.0",
          "state": {
            "_model_module": "@jupyter-widgets/controls",
            "_model_module_version": "1.5.0",
            "_model_name": "ProgressStyleModel",
            "_view_count": null,
            "_view_module": "@jupyter-widgets/base",
            "_view_module_version": "1.2.0",
            "_view_name": "StyleView",
            "bar_color": null,
            "description_width": ""
          }
        },
        "3408c889b81a4d5e8166ccaa5c4c4079": {
          "model_module": "@jupyter-widgets/base",
          "model_name": "LayoutModel",
          "model_module_version": "1.2.0",
          "state": {
            "_model_module": "@jupyter-widgets/base",
            "_model_module_version": "1.2.0",
            "_model_name": "LayoutModel",
            "_view_count": null,
            "_view_module": "@jupyter-widgets/base",
            "_view_module_version": "1.2.0",
            "_view_name": "LayoutView",
            "align_content": null,
            "align_items": null,
            "align_self": null,
            "border": null,
            "bottom": null,
            "display": null,
            "flex": null,
            "flex_flow": null,
            "grid_area": null,
            "grid_auto_columns": null,
            "grid_auto_flow": null,
            "grid_auto_rows": null,
            "grid_column": null,
            "grid_gap": null,
            "grid_row": null,
            "grid_template_areas": null,
            "grid_template_columns": null,
            "grid_template_rows": null,
            "height": null,
            "justify_content": null,
            "justify_items": null,
            "left": null,
            "margin": null,
            "max_height": null,
            "max_width": null,
            "min_height": null,
            "min_width": null,
            "object_fit": null,
            "object_position": null,
            "order": null,
            "overflow": null,
            "overflow_x": null,
            "overflow_y": null,
            "padding": null,
            "right": null,
            "top": null,
            "visibility": null,
            "width": null
          }
        },
        "7fd5ab8e807a4b47823e1eeec2990a06": {
          "model_module": "@jupyter-widgets/controls",
          "model_name": "DescriptionStyleModel",
          "model_module_version": "1.5.0",
          "state": {
            "_model_module": "@jupyter-widgets/controls",
            "_model_module_version": "1.5.0",
            "_model_name": "DescriptionStyleModel",
            "_view_count": null,
            "_view_module": "@jupyter-widgets/base",
            "_view_module_version": "1.2.0",
            "_view_name": "StyleView",
            "description_width": ""
          }
        },
        "5c00e9971e764deb85f0e039c3db2d24": {
          "model_module": "@jupyter-widgets/controls",
          "model_name": "HBoxModel",
          "model_module_version": "1.5.0",
          "state": {
            "_dom_classes": [],
            "_model_module": "@jupyter-widgets/controls",
            "_model_module_version": "1.5.0",
            "_model_name": "HBoxModel",
            "_view_count": null,
            "_view_module": "@jupyter-widgets/controls",
            "_view_module_version": "1.5.0",
            "_view_name": "HBoxView",
            "box_style": "",
            "children": [
              "IPY_MODEL_07c2a214a5b0414a8a19f2851e2b546a",
              "IPY_MODEL_4d1d61cbcf84478d9842dfb05a3021f3",
              "IPY_MODEL_2473b623216441119f554d2f04e4930a"
            ],
            "layout": "IPY_MODEL_0757f75c2d3a451fbbace7b1bac5504c"
          }
        },
        "07c2a214a5b0414a8a19f2851e2b546a": {
          "model_module": "@jupyter-widgets/controls",
          "model_name": "HTMLModel",
          "model_module_version": "1.5.0",
          "state": {
            "_dom_classes": [],
            "_model_module": "@jupyter-widgets/controls",
            "_model_module_version": "1.5.0",
            "_model_name": "HTMLModel",
            "_view_count": null,
            "_view_module": "@jupyter-widgets/controls",
            "_view_module_version": "1.5.0",
            "_view_name": "HTMLView",
            "description": "",
            "description_tooltip": null,
            "layout": "IPY_MODEL_3344496f818344b29d91a1c906b6d9bb",
            "placeholder": "​",
            "style": "IPY_MODEL_b3fdb0bfddd443bba09f34d63dd80c43",
            "value": "Downloading (…)lve/main/config.json: 100%"
          }
        },
        "4d1d61cbcf84478d9842dfb05a3021f3": {
          "model_module": "@jupyter-widgets/controls",
          "model_name": "FloatProgressModel",
          "model_module_version": "1.5.0",
          "state": {
            "_dom_classes": [],
            "_model_module": "@jupyter-widgets/controls",
            "_model_module_version": "1.5.0",
            "_model_name": "FloatProgressModel",
            "_view_count": null,
            "_view_module": "@jupyter-widgets/controls",
            "_view_module_version": "1.5.0",
            "_view_name": "ProgressView",
            "bar_style": "success",
            "description": "",
            "description_tooltip": null,
            "layout": "IPY_MODEL_95628aecd3524a3f9ee117698319141f",
            "max": 467,
            "min": 0,
            "orientation": "horizontal",
            "style": "IPY_MODEL_f896d7c07e44469188df205e6e92cfc4",
            "value": 467
          }
        },
        "2473b623216441119f554d2f04e4930a": {
          "model_module": "@jupyter-widgets/controls",
          "model_name": "HTMLModel",
          "model_module_version": "1.5.0",
          "state": {
            "_dom_classes": [],
            "_model_module": "@jupyter-widgets/controls",
            "_model_module_version": "1.5.0",
            "_model_name": "HTMLModel",
            "_view_count": null,
            "_view_module": "@jupyter-widgets/controls",
            "_view_module_version": "1.5.0",
            "_view_name": "HTMLView",
            "description": "",
            "description_tooltip": null,
            "layout": "IPY_MODEL_44e285cfe6e94d6fba2dc937e3df8810",
            "placeholder": "​",
            "style": "IPY_MODEL_8ca97d37342545399872209e8e74db49",
            "value": " 467/467 [00:00&lt;00:00, 15.7kB/s]"
          }
        },
        "0757f75c2d3a451fbbace7b1bac5504c": {
          "model_module": "@jupyter-widgets/base",
          "model_name": "LayoutModel",
          "model_module_version": "1.2.0",
          "state": {
            "_model_module": "@jupyter-widgets/base",
            "_model_module_version": "1.2.0",
            "_model_name": "LayoutModel",
            "_view_count": null,
            "_view_module": "@jupyter-widgets/base",
            "_view_module_version": "1.2.0",
            "_view_name": "LayoutView",
            "align_content": null,
            "align_items": null,
            "align_self": null,
            "border": null,
            "bottom": null,
            "display": null,
            "flex": null,
            "flex_flow": null,
            "grid_area": null,
            "grid_auto_columns": null,
            "grid_auto_flow": null,
            "grid_auto_rows": null,
            "grid_column": null,
            "grid_gap": null,
            "grid_row": null,
            "grid_template_areas": null,
            "grid_template_columns": null,
            "grid_template_rows": null,
            "height": null,
            "justify_content": null,
            "justify_items": null,
            "left": null,
            "margin": null,
            "max_height": null,
            "max_width": null,
            "min_height": null,
            "min_width": null,
            "object_fit": null,
            "object_position": null,
            "order": null,
            "overflow": null,
            "overflow_x": null,
            "overflow_y": null,
            "padding": null,
            "right": null,
            "top": null,
            "visibility": null,
            "width": null
          }
        },
        "3344496f818344b29d91a1c906b6d9bb": {
          "model_module": "@jupyter-widgets/base",
          "model_name": "LayoutModel",
          "model_module_version": "1.2.0",
          "state": {
            "_model_module": "@jupyter-widgets/base",
            "_model_module_version": "1.2.0",
            "_model_name": "LayoutModel",
            "_view_count": null,
            "_view_module": "@jupyter-widgets/base",
            "_view_module_version": "1.2.0",
            "_view_name": "LayoutView",
            "align_content": null,
            "align_items": null,
            "align_self": null,
            "border": null,
            "bottom": null,
            "display": null,
            "flex": null,
            "flex_flow": null,
            "grid_area": null,
            "grid_auto_columns": null,
            "grid_auto_flow": null,
            "grid_auto_rows": null,
            "grid_column": null,
            "grid_gap": null,
            "grid_row": null,
            "grid_template_areas": null,
            "grid_template_columns": null,
            "grid_template_rows": null,
            "height": null,
            "justify_content": null,
            "justify_items": null,
            "left": null,
            "margin": null,
            "max_height": null,
            "max_width": null,
            "min_height": null,
            "min_width": null,
            "object_fit": null,
            "object_position": null,
            "order": null,
            "overflow": null,
            "overflow_x": null,
            "overflow_y": null,
            "padding": null,
            "right": null,
            "top": null,
            "visibility": null,
            "width": null
          }
        },
        "b3fdb0bfddd443bba09f34d63dd80c43": {
          "model_module": "@jupyter-widgets/controls",
          "model_name": "DescriptionStyleModel",
          "model_module_version": "1.5.0",
          "state": {
            "_model_module": "@jupyter-widgets/controls",
            "_model_module_version": "1.5.0",
            "_model_name": "DescriptionStyleModel",
            "_view_count": null,
            "_view_module": "@jupyter-widgets/base",
            "_view_module_version": "1.2.0",
            "_view_name": "StyleView",
            "description_width": ""
          }
        },
        "95628aecd3524a3f9ee117698319141f": {
          "model_module": "@jupyter-widgets/base",
          "model_name": "LayoutModel",
          "model_module_version": "1.2.0",
          "state": {
            "_model_module": "@jupyter-widgets/base",
            "_model_module_version": "1.2.0",
            "_model_name": "LayoutModel",
            "_view_count": null,
            "_view_module": "@jupyter-widgets/base",
            "_view_module_version": "1.2.0",
            "_view_name": "LayoutView",
            "align_content": null,
            "align_items": null,
            "align_self": null,
            "border": null,
            "bottom": null,
            "display": null,
            "flex": null,
            "flex_flow": null,
            "grid_area": null,
            "grid_auto_columns": null,
            "grid_auto_flow": null,
            "grid_auto_rows": null,
            "grid_column": null,
            "grid_gap": null,
            "grid_row": null,
            "grid_template_areas": null,
            "grid_template_columns": null,
            "grid_template_rows": null,
            "height": null,
            "justify_content": null,
            "justify_items": null,
            "left": null,
            "margin": null,
            "max_height": null,
            "max_width": null,
            "min_height": null,
            "min_width": null,
            "object_fit": null,
            "object_position": null,
            "order": null,
            "overflow": null,
            "overflow_x": null,
            "overflow_y": null,
            "padding": null,
            "right": null,
            "top": null,
            "visibility": null,
            "width": null
          }
        },
        "f896d7c07e44469188df205e6e92cfc4": {
          "model_module": "@jupyter-widgets/controls",
          "model_name": "ProgressStyleModel",
          "model_module_version": "1.5.0",
          "state": {
            "_model_module": "@jupyter-widgets/controls",
            "_model_module_version": "1.5.0",
            "_model_name": "ProgressStyleModel",
            "_view_count": null,
            "_view_module": "@jupyter-widgets/base",
            "_view_module_version": "1.2.0",
            "_view_name": "StyleView",
            "bar_color": null,
            "description_width": ""
          }
        },
        "44e285cfe6e94d6fba2dc937e3df8810": {
          "model_module": "@jupyter-widgets/base",
          "model_name": "LayoutModel",
          "model_module_version": "1.2.0",
          "state": {
            "_model_module": "@jupyter-widgets/base",
            "_model_module_version": "1.2.0",
            "_model_name": "LayoutModel",
            "_view_count": null,
            "_view_module": "@jupyter-widgets/base",
            "_view_module_version": "1.2.0",
            "_view_name": "LayoutView",
            "align_content": null,
            "align_items": null,
            "align_self": null,
            "border": null,
            "bottom": null,
            "display": null,
            "flex": null,
            "flex_flow": null,
            "grid_area": null,
            "grid_auto_columns": null,
            "grid_auto_flow": null,
            "grid_auto_rows": null,
            "grid_column": null,
            "grid_gap": null,
            "grid_row": null,
            "grid_template_areas": null,
            "grid_template_columns": null,
            "grid_template_rows": null,
            "height": null,
            "justify_content": null,
            "justify_items": null,
            "left": null,
            "margin": null,
            "max_height": null,
            "max_width": null,
            "min_height": null,
            "min_width": null,
            "object_fit": null,
            "object_position": null,
            "order": null,
            "overflow": null,
            "overflow_x": null,
            "overflow_y": null,
            "padding": null,
            "right": null,
            "top": null,
            "visibility": null,
            "width": null
          }
        },
        "8ca97d37342545399872209e8e74db49": {
          "model_module": "@jupyter-widgets/controls",
          "model_name": "DescriptionStyleModel",
          "model_module_version": "1.5.0",
          "state": {
            "_model_module": "@jupyter-widgets/controls",
            "_model_module_version": "1.5.0",
            "_model_name": "DescriptionStyleModel",
            "_view_count": null,
            "_view_module": "@jupyter-widgets/base",
            "_view_module_version": "1.2.0",
            "_view_name": "StyleView",
            "description_width": ""
          }
        },
        "eefcec2f69134ed187d2de901b6c121b": {
          "model_module": "@jupyter-widgets/controls",
          "model_name": "HBoxModel",
          "model_module_version": "1.5.0",
          "state": {
            "_dom_classes": [],
            "_model_module": "@jupyter-widgets/controls",
            "_model_module_version": "1.5.0",
            "_model_name": "HBoxModel",
            "_view_count": null,
            "_view_module": "@jupyter-widgets/controls",
            "_view_module_version": "1.5.0",
            "_view_name": "HBoxView",
            "box_style": "",
            "children": [
              "IPY_MODEL_18885ff87fd84fe0a0284d875fe5d276",
              "IPY_MODEL_bdbfeebbf34846b2bed2f69c8e6b79b6",
              "IPY_MODEL_6c4396e407f945638120c1ffe891178d"
            ],
            "layout": "IPY_MODEL_d4bc6546340b43f8ac769cc517e517dc"
          }
        },
        "18885ff87fd84fe0a0284d875fe5d276": {
          "model_module": "@jupyter-widgets/controls",
          "model_name": "HTMLModel",
          "model_module_version": "1.5.0",
          "state": {
            "_dom_classes": [],
            "_model_module": "@jupyter-widgets/controls",
            "_model_module_version": "1.5.0",
            "_model_name": "HTMLModel",
            "_view_count": null,
            "_view_module": "@jupyter-widgets/controls",
            "_view_module_version": "1.5.0",
            "_view_name": "HTMLView",
            "description": "",
            "description_tooltip": null,
            "layout": "IPY_MODEL_472ba468f9de43d9a7e77a6fbe13da86",
            "placeholder": "​",
            "style": "IPY_MODEL_7765664bfa054ee887feb4b1f828e190",
            "value": "Downloading pytorch_model.bin: 100%"
          }
        },
        "bdbfeebbf34846b2bed2f69c8e6b79b6": {
          "model_module": "@jupyter-widgets/controls",
          "model_name": "FloatProgressModel",
          "model_module_version": "1.5.0",
          "state": {
            "_dom_classes": [],
            "_model_module": "@jupyter-widgets/controls",
            "_model_module_version": "1.5.0",
            "_model_name": "FloatProgressModel",
            "_view_count": null,
            "_view_module": "@jupyter-widgets/controls",
            "_view_module_version": "1.5.0",
            "_view_name": "ProgressView",
            "bar_style": "success",
            "description": "",
            "description_tooltip": null,
            "layout": "IPY_MODEL_4de5b229f3cb4a36b9d8234748160b02",
            "max": 451741507,
            "min": 0,
            "orientation": "horizontal",
            "style": "IPY_MODEL_05352a429abd4402829fb9ec7ef28c77",
            "value": 451741507
          }
        },
        "6c4396e407f945638120c1ffe891178d": {
          "model_module": "@jupyter-widgets/controls",
          "model_name": "HTMLModel",
          "model_module_version": "1.5.0",
          "state": {
            "_dom_classes": [],
            "_model_module": "@jupyter-widgets/controls",
            "_model_module_version": "1.5.0",
            "_model_name": "HTMLModel",
            "_view_count": null,
            "_view_module": "@jupyter-widgets/controls",
            "_view_module_version": "1.5.0",
            "_view_name": "HTMLView",
            "description": "",
            "description_tooltip": null,
            "layout": "IPY_MODEL_6975edcdf0e24a8da5d0b9e3a7e7ea98",
            "placeholder": "​",
            "style": "IPY_MODEL_8acbba3768eb43e3a211bff870733114",
            "value": " 452M/452M [00:04&lt;00:00, 123MB/s]"
          }
        },
        "d4bc6546340b43f8ac769cc517e517dc": {
          "model_module": "@jupyter-widgets/base",
          "model_name": "LayoutModel",
          "model_module_version": "1.2.0",
          "state": {
            "_model_module": "@jupyter-widgets/base",
            "_model_module_version": "1.2.0",
            "_model_name": "LayoutModel",
            "_view_count": null,
            "_view_module": "@jupyter-widgets/base",
            "_view_module_version": "1.2.0",
            "_view_name": "LayoutView",
            "align_content": null,
            "align_items": null,
            "align_self": null,
            "border": null,
            "bottom": null,
            "display": null,
            "flex": null,
            "flex_flow": null,
            "grid_area": null,
            "grid_auto_columns": null,
            "grid_auto_flow": null,
            "grid_auto_rows": null,
            "grid_column": null,
            "grid_gap": null,
            "grid_row": null,
            "grid_template_areas": null,
            "grid_template_columns": null,
            "grid_template_rows": null,
            "height": null,
            "justify_content": null,
            "justify_items": null,
            "left": null,
            "margin": null,
            "max_height": null,
            "max_width": null,
            "min_height": null,
            "min_width": null,
            "object_fit": null,
            "object_position": null,
            "order": null,
            "overflow": null,
            "overflow_x": null,
            "overflow_y": null,
            "padding": null,
            "right": null,
            "top": null,
            "visibility": null,
            "width": null
          }
        },
        "472ba468f9de43d9a7e77a6fbe13da86": {
          "model_module": "@jupyter-widgets/base",
          "model_name": "LayoutModel",
          "model_module_version": "1.2.0",
          "state": {
            "_model_module": "@jupyter-widgets/base",
            "_model_module_version": "1.2.0",
            "_model_name": "LayoutModel",
            "_view_count": null,
            "_view_module": "@jupyter-widgets/base",
            "_view_module_version": "1.2.0",
            "_view_name": "LayoutView",
            "align_content": null,
            "align_items": null,
            "align_self": null,
            "border": null,
            "bottom": null,
            "display": null,
            "flex": null,
            "flex_flow": null,
            "grid_area": null,
            "grid_auto_columns": null,
            "grid_auto_flow": null,
            "grid_auto_rows": null,
            "grid_column": null,
            "grid_gap": null,
            "grid_row": null,
            "grid_template_areas": null,
            "grid_template_columns": null,
            "grid_template_rows": null,
            "height": null,
            "justify_content": null,
            "justify_items": null,
            "left": null,
            "margin": null,
            "max_height": null,
            "max_width": null,
            "min_height": null,
            "min_width": null,
            "object_fit": null,
            "object_position": null,
            "order": null,
            "overflow": null,
            "overflow_x": null,
            "overflow_y": null,
            "padding": null,
            "right": null,
            "top": null,
            "visibility": null,
            "width": null
          }
        },
        "7765664bfa054ee887feb4b1f828e190": {
          "model_module": "@jupyter-widgets/controls",
          "model_name": "DescriptionStyleModel",
          "model_module_version": "1.5.0",
          "state": {
            "_model_module": "@jupyter-widgets/controls",
            "_model_module_version": "1.5.0",
            "_model_name": "DescriptionStyleModel",
            "_view_count": null,
            "_view_module": "@jupyter-widgets/base",
            "_view_module_version": "1.2.0",
            "_view_name": "StyleView",
            "description_width": ""
          }
        },
        "4de5b229f3cb4a36b9d8234748160b02": {
          "model_module": "@jupyter-widgets/base",
          "model_name": "LayoutModel",
          "model_module_version": "1.2.0",
          "state": {
            "_model_module": "@jupyter-widgets/base",
            "_model_module_version": "1.2.0",
            "_model_name": "LayoutModel",
            "_view_count": null,
            "_view_module": "@jupyter-widgets/base",
            "_view_module_version": "1.2.0",
            "_view_name": "LayoutView",
            "align_content": null,
            "align_items": null,
            "align_self": null,
            "border": null,
            "bottom": null,
            "display": null,
            "flex": null,
            "flex_flow": null,
            "grid_area": null,
            "grid_auto_columns": null,
            "grid_auto_flow": null,
            "grid_auto_rows": null,
            "grid_column": null,
            "grid_gap": null,
            "grid_row": null,
            "grid_template_areas": null,
            "grid_template_columns": null,
            "grid_template_rows": null,
            "height": null,
            "justify_content": null,
            "justify_items": null,
            "left": null,
            "margin": null,
            "max_height": null,
            "max_width": null,
            "min_height": null,
            "min_width": null,
            "object_fit": null,
            "object_position": null,
            "order": null,
            "overflow": null,
            "overflow_x": null,
            "overflow_y": null,
            "padding": null,
            "right": null,
            "top": null,
            "visibility": null,
            "width": null
          }
        },
        "05352a429abd4402829fb9ec7ef28c77": {
          "model_module": "@jupyter-widgets/controls",
          "model_name": "ProgressStyleModel",
          "model_module_version": "1.5.0",
          "state": {
            "_model_module": "@jupyter-widgets/controls",
            "_model_module_version": "1.5.0",
            "_model_name": "ProgressStyleModel",
            "_view_count": null,
            "_view_module": "@jupyter-widgets/base",
            "_view_module_version": "1.2.0",
            "_view_name": "StyleView",
            "bar_color": null,
            "description_width": ""
          }
        },
        "6975edcdf0e24a8da5d0b9e3a7e7ea98": {
          "model_module": "@jupyter-widgets/base",
          "model_name": "LayoutModel",
          "model_module_version": "1.2.0",
          "state": {
            "_model_module": "@jupyter-widgets/base",
            "_model_module_version": "1.2.0",
            "_model_name": "LayoutModel",
            "_view_count": null,
            "_view_module": "@jupyter-widgets/base",
            "_view_module_version": "1.2.0",
            "_view_name": "LayoutView",
            "align_content": null,
            "align_items": null,
            "align_self": null,
            "border": null,
            "bottom": null,
            "display": null,
            "flex": null,
            "flex_flow": null,
            "grid_area": null,
            "grid_auto_columns": null,
            "grid_auto_flow": null,
            "grid_auto_rows": null,
            "grid_column": null,
            "grid_gap": null,
            "grid_row": null,
            "grid_template_areas": null,
            "grid_template_columns": null,
            "grid_template_rows": null,
            "height": null,
            "justify_content": null,
            "justify_items": null,
            "left": null,
            "margin": null,
            "max_height": null,
            "max_width": null,
            "min_height": null,
            "min_width": null,
            "object_fit": null,
            "object_position": null,
            "order": null,
            "overflow": null,
            "overflow_x": null,
            "overflow_y": null,
            "padding": null,
            "right": null,
            "top": null,
            "visibility": null,
            "width": null
          }
        },
        "8acbba3768eb43e3a211bff870733114": {
          "model_module": "@jupyter-widgets/controls",
          "model_name": "DescriptionStyleModel",
          "model_module_version": "1.5.0",
          "state": {
            "_model_module": "@jupyter-widgets/controls",
            "_model_module_version": "1.5.0",
            "_model_name": "DescriptionStyleModel",
            "_view_count": null,
            "_view_module": "@jupyter-widgets/base",
            "_view_module_version": "1.2.0",
            "_view_name": "StyleView",
            "description_width": ""
          }
        }
      }
    }
  },
  "cells": [
    {
      "cell_type": "code",
      "source": [
        "!pip install konlpy"
      ],
      "metadata": {
        "colab": {
          "base_uri": "https://localhost:8080/"
        },
        "id": "Q8CXC_sXwSQE",
        "outputId": "c4ab8d52-7252-4620-f9d5-4654dbf1edb6"
      },
      "execution_count": 1,
      "outputs": [
        {
          "output_type": "stream",
          "name": "stdout",
          "text": [
            "Collecting konlpy\n",
            "  Downloading konlpy-0.6.0-py2.py3-none-any.whl (19.4 MB)\n",
            "\u001b[2K     \u001b[90m━━━━━━━━━━━━━━━━━━━━━━━━━━━━━━━━━━━━━━━━\u001b[0m \u001b[32m19.4/19.4 MB\u001b[0m \u001b[31m41.5 MB/s\u001b[0m eta \u001b[36m0:00:00\u001b[0m\n",
            "\u001b[?25hCollecting JPype1>=0.7.0 (from konlpy)\n",
            "  Downloading JPype1-1.4.1-cp310-cp310-manylinux_2_12_x86_64.manylinux2010_x86_64.whl (465 kB)\n",
            "\u001b[2K     \u001b[90m━━━━━━━━━━━━━━━━━━━━━━━━━━━━━━━━━━━━━━\u001b[0m \u001b[32m465.3/465.3 kB\u001b[0m \u001b[31m43.4 MB/s\u001b[0m eta \u001b[36m0:00:00\u001b[0m\n",
            "\u001b[?25hRequirement already satisfied: lxml>=4.1.0 in /usr/local/lib/python3.10/dist-packages (from konlpy) (4.9.3)\n",
            "Requirement already satisfied: numpy>=1.6 in /usr/local/lib/python3.10/dist-packages (from konlpy) (1.23.5)\n",
            "Requirement already satisfied: packaging in /usr/local/lib/python3.10/dist-packages (from JPype1>=0.7.0->konlpy) (23.1)\n",
            "Installing collected packages: JPype1, konlpy\n",
            "Successfully installed JPype1-1.4.1 konlpy-0.6.0\n"
          ]
        }
      ]
    },
    {
      "cell_type": "code",
      "source": [
        "!pip install transformers"
      ],
      "metadata": {
        "colab": {
          "base_uri": "https://localhost:8080/"
        },
        "id": "PtmYoyTh63L_",
        "outputId": "3f09873a-6d1f-45e9-d1ef-17865ec6a7ed"
      },
      "execution_count": 2,
      "outputs": [
        {
          "output_type": "stream",
          "name": "stdout",
          "text": [
            "Collecting transformers\n",
            "  Downloading transformers-4.32.1-py3-none-any.whl (7.5 MB)\n",
            "\u001b[2K     \u001b[90m━━━━━━━━━━━━━━━━━━━━━━━━━━━━━━━━━━━━━━━━\u001b[0m \u001b[32m7.5/7.5 MB\u001b[0m \u001b[31m16.0 MB/s\u001b[0m eta \u001b[36m0:00:00\u001b[0m\n",
            "\u001b[?25hRequirement already satisfied: filelock in /usr/local/lib/python3.10/dist-packages (from transformers) (3.12.2)\n",
            "Collecting huggingface-hub<1.0,>=0.15.1 (from transformers)\n",
            "  Downloading huggingface_hub-0.16.4-py3-none-any.whl (268 kB)\n",
            "\u001b[2K     \u001b[90m━━━━━━━━━━━━━━━━━━━━━━━━━━━━━━━━━━━━━━\u001b[0m \u001b[32m268.8/268.8 kB\u001b[0m \u001b[31m26.7 MB/s\u001b[0m eta \u001b[36m0:00:00\u001b[0m\n",
            "\u001b[?25hRequirement already satisfied: numpy>=1.17 in /usr/local/lib/python3.10/dist-packages (from transformers) (1.23.5)\n",
            "Requirement already satisfied: packaging>=20.0 in /usr/local/lib/python3.10/dist-packages (from transformers) (23.1)\n",
            "Requirement already satisfied: pyyaml>=5.1 in /usr/local/lib/python3.10/dist-packages (from transformers) (6.0.1)\n",
            "Requirement already satisfied: regex!=2019.12.17 in /usr/local/lib/python3.10/dist-packages (from transformers) (2023.6.3)\n",
            "Requirement already satisfied: requests in /usr/local/lib/python3.10/dist-packages (from transformers) (2.31.0)\n",
            "Collecting tokenizers!=0.11.3,<0.14,>=0.11.1 (from transformers)\n",
            "  Downloading tokenizers-0.13.3-cp310-cp310-manylinux_2_17_x86_64.manylinux2014_x86_64.whl (7.8 MB)\n",
            "\u001b[2K     \u001b[90m━━━━━━━━━━━━━━━━━━━━━━━━━━━━━━━━━━━━━━━━\u001b[0m \u001b[32m7.8/7.8 MB\u001b[0m \u001b[31m41.7 MB/s\u001b[0m eta \u001b[36m0:00:00\u001b[0m\n",
            "\u001b[?25hCollecting safetensors>=0.3.1 (from transformers)\n",
            "  Downloading safetensors-0.3.3-cp310-cp310-manylinux_2_17_x86_64.manylinux2014_x86_64.whl (1.3 MB)\n",
            "\u001b[2K     \u001b[90m━━━━━━━━━━━━━━━━━━━━━━━━━━━━━━━━━━━━━━━━\u001b[0m \u001b[32m1.3/1.3 MB\u001b[0m \u001b[31m30.2 MB/s\u001b[0m eta \u001b[36m0:00:00\u001b[0m\n",
            "\u001b[?25hRequirement already satisfied: tqdm>=4.27 in /usr/local/lib/python3.10/dist-packages (from transformers) (4.66.1)\n",
            "Requirement already satisfied: fsspec in /usr/local/lib/python3.10/dist-packages (from huggingface-hub<1.0,>=0.15.1->transformers) (2023.6.0)\n",
            "Requirement already satisfied: typing-extensions>=3.7.4.3 in /usr/local/lib/python3.10/dist-packages (from huggingface-hub<1.0,>=0.15.1->transformers) (4.7.1)\n",
            "Requirement already satisfied: charset-normalizer<4,>=2 in /usr/local/lib/python3.10/dist-packages (from requests->transformers) (3.2.0)\n",
            "Requirement already satisfied: idna<4,>=2.5 in /usr/local/lib/python3.10/dist-packages (from requests->transformers) (3.4)\n",
            "Requirement already satisfied: urllib3<3,>=1.21.1 in /usr/local/lib/python3.10/dist-packages (from requests->transformers) (2.0.4)\n",
            "Requirement already satisfied: certifi>=2017.4.17 in /usr/local/lib/python3.10/dist-packages (from requests->transformers) (2023.7.22)\n",
            "Installing collected packages: tokenizers, safetensors, huggingface-hub, transformers\n",
            "Successfully installed huggingface-hub-0.16.4 safetensors-0.3.3 tokenizers-0.13.3 transformers-4.32.1\n"
          ]
        }
      ]
    },
    {
      "cell_type": "code",
      "source": [
        "!pip install torch"
      ],
      "metadata": {
        "colab": {
          "base_uri": "https://localhost:8080/"
        },
        "id": "wNm5qnXG66AR",
        "outputId": "0007e6cc-a6a6-41f9-a94c-fdb81d4a103f"
      },
      "execution_count": 3,
      "outputs": [
        {
          "output_type": "stream",
          "name": "stdout",
          "text": [
            "Requirement already satisfied: torch in /usr/local/lib/python3.10/dist-packages (2.0.1+cu118)\n",
            "Requirement already satisfied: filelock in /usr/local/lib/python3.10/dist-packages (from torch) (3.12.2)\n",
            "Requirement already satisfied: typing-extensions in /usr/local/lib/python3.10/dist-packages (from torch) (4.7.1)\n",
            "Requirement already satisfied: sympy in /usr/local/lib/python3.10/dist-packages (from torch) (1.12)\n",
            "Requirement already satisfied: networkx in /usr/local/lib/python3.10/dist-packages (from torch) (3.1)\n",
            "Requirement already satisfied: jinja2 in /usr/local/lib/python3.10/dist-packages (from torch) (3.1.2)\n",
            "Requirement already satisfied: triton==2.0.0 in /usr/local/lib/python3.10/dist-packages (from torch) (2.0.0)\n",
            "Requirement already satisfied: cmake in /usr/local/lib/python3.10/dist-packages (from triton==2.0.0->torch) (3.27.2)\n",
            "Requirement already satisfied: lit in /usr/local/lib/python3.10/dist-packages (from triton==2.0.0->torch) (16.0.6)\n",
            "Requirement already satisfied: MarkupSafe>=2.0 in /usr/local/lib/python3.10/dist-packages (from jinja2->torch) (2.1.3)\n",
            "Requirement already satisfied: mpmath>=0.19 in /usr/local/lib/python3.10/dist-packages (from sympy->torch) (1.3.0)\n"
          ]
        }
      ]
    },
    {
      "cell_type": "code",
      "execution_count": 4,
      "metadata": {
        "id": "4GqVlhqtwLTd"
      },
      "outputs": [],
      "source": [
        "from transformers import ElectraTokenizer, ElectraForMaskedLM, ElectraModel\n",
        "import torch\n",
        "from torch.nn.functional import cosine_similarity\n",
        "import json\n",
        "from collections import defaultdict, Counter\n",
        "from konlpy.tag import Kkma\n",
        "from konlpy.tag import Komoran\n",
        "from konlpy.tag import Okt\n",
        "import re"
      ]
    },
    {
      "cell_type": "code",
      "source": [
        "tokenizer = ElectraTokenizer.from_pretrained(\"monologg/koelectra-base-v3-discriminator\")\n",
        "# model = ElectraForMaskedLM.from_pretrained(\"monologg/koelectra-base-v3-discriminator\")\n",
        "model = ElectraModel.from_pretrained(\"monologg/koelectra-base-v3-discriminator\")"
      ],
      "metadata": {
        "colab": {
          "base_uri": "https://localhost:8080/",
          "height": 145,
          "referenced_widgets": [
            "1d5329a1074a4fa0aafbc165dbc0aa5f",
            "21561970ae724abca43ff7beba2c30fb",
            "2939850de5bd437fa5924b47f35162d1",
            "58688651a4894197bc9e7cc57b0469ad",
            "3d57190988f6494cbb33f81153e821ab",
            "818d797bee5d46e1ae3433ef7fd96a8a",
            "f122f04280e2446aa743dfd1c9415382",
            "3e099c17315b4072ae0f712c8d47c6b1",
            "fc82f8d907b54160976ed782e6617143",
            "25f9577846c042a2a58cb1220596cb90",
            "be6d0320eef64aaaa50d137d2e1a9396",
            "aea2eb09406a40d8a3d203b7a47378b9",
            "73ce85d07f694da39522a4ff9b16ee6a",
            "c83afc30fa324ff18c6ae146fb71bee5",
            "1433eb559f464d5fb9471a92ed58f833",
            "9174d142c2fe4b40a3bce9eb5377b48a",
            "cbbe62db60c04d31ba2b20eece660a83",
            "1913bc2f4006451cbfdc5b13fd8d3f9d",
            "07d6772a24be428bbec47b2d8d309a9d",
            "6ac2dde9b00141ba8397a3e2fb441877",
            "3408c889b81a4d5e8166ccaa5c4c4079",
            "7fd5ab8e807a4b47823e1eeec2990a06",
            "5c00e9971e764deb85f0e039c3db2d24",
            "07c2a214a5b0414a8a19f2851e2b546a",
            "4d1d61cbcf84478d9842dfb05a3021f3",
            "2473b623216441119f554d2f04e4930a",
            "0757f75c2d3a451fbbace7b1bac5504c",
            "3344496f818344b29d91a1c906b6d9bb",
            "b3fdb0bfddd443bba09f34d63dd80c43",
            "95628aecd3524a3f9ee117698319141f",
            "f896d7c07e44469188df205e6e92cfc4",
            "44e285cfe6e94d6fba2dc937e3df8810",
            "8ca97d37342545399872209e8e74db49",
            "eefcec2f69134ed187d2de901b6c121b",
            "18885ff87fd84fe0a0284d875fe5d276",
            "bdbfeebbf34846b2bed2f69c8e6b79b6",
            "6c4396e407f945638120c1ffe891178d",
            "d4bc6546340b43f8ac769cc517e517dc",
            "472ba468f9de43d9a7e77a6fbe13da86",
            "7765664bfa054ee887feb4b1f828e190",
            "4de5b229f3cb4a36b9d8234748160b02",
            "05352a429abd4402829fb9ec7ef28c77",
            "6975edcdf0e24a8da5d0b9e3a7e7ea98",
            "8acbba3768eb43e3a211bff870733114"
          ]
        },
        "id": "pkw7nZ8J7THN",
        "outputId": "b1cac605-aabd-472d-832a-8faddd3aa554"
      },
      "execution_count": 5,
      "outputs": [
        {
          "output_type": "display_data",
          "data": {
            "text/plain": [
              "Downloading (…)solve/main/vocab.txt:   0%|          | 0.00/263k [00:00<?, ?B/s]"
            ],
            "application/vnd.jupyter.widget-view+json": {
              "version_major": 2,
              "version_minor": 0,
              "model_id": "1d5329a1074a4fa0aafbc165dbc0aa5f"
            }
          },
          "metadata": {}
        },
        {
          "output_type": "display_data",
          "data": {
            "text/plain": [
              "Downloading (…)okenizer_config.json:   0%|          | 0.00/61.0 [00:00<?, ?B/s]"
            ],
            "application/vnd.jupyter.widget-view+json": {
              "version_major": 2,
              "version_minor": 0,
              "model_id": "aea2eb09406a40d8a3d203b7a47378b9"
            }
          },
          "metadata": {}
        },
        {
          "output_type": "display_data",
          "data": {
            "text/plain": [
              "Downloading (…)lve/main/config.json:   0%|          | 0.00/467 [00:00<?, ?B/s]"
            ],
            "application/vnd.jupyter.widget-view+json": {
              "version_major": 2,
              "version_minor": 0,
              "model_id": "5c00e9971e764deb85f0e039c3db2d24"
            }
          },
          "metadata": {}
        },
        {
          "output_type": "display_data",
          "data": {
            "text/plain": [
              "Downloading pytorch_model.bin:   0%|          | 0.00/452M [00:00<?, ?B/s]"
            ],
            "application/vnd.jupyter.widget-view+json": {
              "version_major": 2,
              "version_minor": 0,
              "model_id": "eefcec2f69134ed187d2de901b6c121b"
            }
          },
          "metadata": {}
        }
      ]
    },
    {
      "cell_type": "code",
      "source": [
        "device = torch.device('cuda' if torch.cuda.is_available() else 'cpu')\n",
        "model.to(device)"
      ],
      "metadata": {
        "colab": {
          "base_uri": "https://localhost:8080/"
        },
        "id": "lrv6upGk7FL9",
        "outputId": "85dd2ff2-d139-4f08-d98e-984ad8f13646"
      },
      "execution_count": 6,
      "outputs": [
        {
          "output_type": "execute_result",
          "data": {
            "text/plain": [
              "ElectraModel(\n",
              "  (embeddings): ElectraEmbeddings(\n",
              "    (word_embeddings): Embedding(35000, 768, padding_idx=0)\n",
              "    (position_embeddings): Embedding(512, 768)\n",
              "    (token_type_embeddings): Embedding(2, 768)\n",
              "    (LayerNorm): LayerNorm((768,), eps=1e-12, elementwise_affine=True)\n",
              "    (dropout): Dropout(p=0.1, inplace=False)\n",
              "  )\n",
              "  (encoder): ElectraEncoder(\n",
              "    (layer): ModuleList(\n",
              "      (0-11): 12 x ElectraLayer(\n",
              "        (attention): ElectraAttention(\n",
              "          (self): ElectraSelfAttention(\n",
              "            (query): Linear(in_features=768, out_features=768, bias=True)\n",
              "            (key): Linear(in_features=768, out_features=768, bias=True)\n",
              "            (value): Linear(in_features=768, out_features=768, bias=True)\n",
              "            (dropout): Dropout(p=0.1, inplace=False)\n",
              "          )\n",
              "          (output): ElectraSelfOutput(\n",
              "            (dense): Linear(in_features=768, out_features=768, bias=True)\n",
              "            (LayerNorm): LayerNorm((768,), eps=1e-12, elementwise_affine=True)\n",
              "            (dropout): Dropout(p=0.1, inplace=False)\n",
              "          )\n",
              "        )\n",
              "        (intermediate): ElectraIntermediate(\n",
              "          (dense): Linear(in_features=768, out_features=3072, bias=True)\n",
              "          (intermediate_act_fn): GELUActivation()\n",
              "        )\n",
              "        (output): ElectraOutput(\n",
              "          (dense): Linear(in_features=3072, out_features=768, bias=True)\n",
              "          (LayerNorm): LayerNorm((768,), eps=1e-12, elementwise_affine=True)\n",
              "          (dropout): Dropout(p=0.1, inplace=False)\n",
              "        )\n",
              "      )\n",
              "    )\n",
              "  )\n",
              ")"
            ]
          },
          "metadata": {},
          "execution_count": 6
        }
      ]
    },
    {
      "cell_type": "code",
      "source": [
        "file_path = '/content/drive/MyDrive/Colab Notebooks/동일감정제거.jsonl'"
      ],
      "metadata": {
        "id": "m7BwETs0wZiv"
      },
      "execution_count": 44,
      "outputs": []
    },
    {
      "cell_type": "code",
      "source": [
        "data = []\n",
        "with open(file_path, 'r') as file:\n",
        "    for line in file:\n",
        "        data.append(json.loads(line))"
      ],
      "metadata": {
        "id": "4Hc-q-ymwebd"
      },
      "execution_count": 45,
      "outputs": []
    },
    {
      "cell_type": "code",
      "source": [
        "emotion_labels = ['joy', 'anticipation', 'trust', 'surprise', 'disgust', 'fear', 'anger', 'sadness']"
      ],
      "metadata": {
        "id": "WBAsxot0wlSw"
      },
      "execution_count": 38,
      "outputs": []
    },
    {
      "cell_type": "code",
      "source": [
        "okt = Okt()\n",
        "kkma = Kkma()\n",
        "komoran = Komoran()"
      ],
      "metadata": {
        "id": "vxgso6XfSXRm"
      },
      "execution_count": 10,
      "outputs": []
    },
    {
      "cell_type": "code",
      "source": [
        "def stem_tokens(sentence, tokenizer):\n",
        "    return tokenizer.morphs(sentence, stem=True)"
      ],
      "metadata": {
        "id": "aa4Mm8t5wfyo"
      },
      "execution_count": 39,
      "outputs": []
    },
    {
      "cell_type": "code",
      "source": [
        "sentence = \"담주에  공지 뜨고 다담주에 티켓팅할 느낌\"\n",
        "tokens = stem_tokens(sentence, okt)\n",
        "print(tokens)"
      ],
      "metadata": {
        "colab": {
          "base_uri": "https://localhost:8080/"
        },
        "id": "ouXaIresS3S9",
        "outputId": "d8a36f6f-b4e3-494e-ee7d-c4254696e120"
      },
      "execution_count": 32,
      "outputs": [
        {
          "output_type": "stream",
          "name": "stdout",
          "text": [
            "[('담다', 'Verb'), ('공지', 'Noun'), ('뜨다', 'Verb'), ('다담', 'Noun'), ('주', 'Noun'), ('에', 'Josa'), ('티켓팅', 'Noun'), ('하다', 'Verb'), ('느낌', 'Noun')]\n"
          ]
        }
      ]
    },
    {
      "cell_type": "code",
      "source": [
        "kkma.morphs(sentence)"
      ],
      "metadata": {
        "colab": {
          "base_uri": "https://localhost:8080/"
        },
        "id": "Kfa6acf8TkmX",
        "outputId": "66327c7d-3b78-4315-e2d0-b6bf441a1b3f"
      },
      "execution_count": 13,
      "outputs": [
        {
          "output_type": "execute_result",
          "data": {
            "text/plain": [
              "['담', '주', '에', '공지', '뜨', '고', '다담', '주', '에', '티켓', '팅', '하', 'ㄹ', '느낌']"
            ]
          },
          "metadata": {},
          "execution_count": 13
        }
      ]
    },
    {
      "cell_type": "code",
      "source": [
        "komoran.morphs(sentence)"
      ],
      "metadata": {
        "colab": {
          "base_uri": "https://localhost:8080/"
        },
        "id": "EsuIN_YCTxYY",
        "outputId": "1db413d2-7920-4288-e355-29110bf34f89"
      },
      "execution_count": null,
      "outputs": [
        {
          "output_type": "execute_result",
          "data": {
            "text/plain": [
              "['담', '주', '에', '공지', '뜨', '고', '다', '담', '주', '에', '티켓팅할', '느낌']"
            ]
          },
          "metadata": {},
          "execution_count": 44
        }
      ]
    },
    {
      "cell_type": "code",
      "source": [
        "okt.pos(sentence)"
      ],
      "metadata": {
        "colab": {
          "base_uri": "https://localhost:8080/"
        },
        "id": "zFG8BnUST3R_",
        "outputId": "190fd62d-5f8f-4f3d-c91f-ae571b99c503"
      },
      "execution_count": 30,
      "outputs": [
        {
          "output_type": "execute_result",
          "data": {
            "text/plain": [
              "[('담주에', 'Verb'),\n",
              " ('공지', 'Noun'),\n",
              " ('뜨고', 'Verb'),\n",
              " ('다담', 'Noun'),\n",
              " ('주', 'Noun'),\n",
              " ('에', 'Josa'),\n",
              " ('티켓팅', 'Noun'),\n",
              " ('할', 'Verb'),\n",
              " ('느낌', 'Noun')]"
            ]
          },
          "metadata": {},
          "execution_count": 30
        }
      ]
    },
    {
      "cell_type": "code",
      "source": [
        "def aggregate_tweets_by_emotion(data):\n",
        "    emotion_tweets = defaultdict(list)\n",
        "    emotion_unique_terms = defaultdict(set)\n",
        "    all_words = set()\n",
        "\n",
        "    for item in data:\n",
        "        tweet = item['input']['form']\n",
        "        terms = stem_tokens(tweet, okt)\n",
        "        all_words.update(terms)\n",
        "        for emotion in emotion_labels:\n",
        "            if item['output'][emotion] == 'True':\n",
        "                emotion_tweets[emotion].append(tweet)\n",
        "                emotion_unique_terms[emotion].update(set(terms))\n",
        "\n",
        "    return emotion_tweets, emotion_unique_terms, list(all_words)\n",
        "\n",
        "\n",
        "def calculate_n(term, emotion_unique_terms):\n",
        "    count = 0\n",
        "    for unique_terms in emotion_unique_terms.values():\n",
        "        if term in unique_terms:\n",
        "            count += 1\n",
        "    return count\n",
        "\n",
        "\n",
        "def calculate_weighted_twf(emotion_tweets, emotion_unique_terms):\n",
        "    emotion_lexicons = defaultdict(dict)\n",
        "    total_documents = 8\n",
        "\n",
        "    for emotion, tweets in emotion_tweets.items():\n",
        "        term_count = Counter()\n",
        "        tweet_count = Counter()\n",
        "        total_terms = 0\n",
        "\n",
        "        for tweet in tweets:\n",
        "            terms = stem_tokens(tweet, okt)\n",
        "            total_terms += len(terms)\n",
        "            unique_terms = set(terms)\n",
        "            for term in unique_terms:\n",
        "                tweet_count[term] += 1\n",
        "            for term in terms:\n",
        "                term_count[term] += 1\n",
        "        print(total_terms)\n",
        "        print(tweet_count)\n",
        "\n",
        "\n",
        "\n",
        "        for term, count in term_count.items():\n",
        "            normalized_tweet_frequency = tweet_count[term] / total_terms\n",
        "            n = calculate_n(term, emotion_unique_terms)\n",
        "\n",
        "            if n < total_documents and n != 0:\n",
        "                weight = 1 / n\n",
        "            else:\n",
        "                weight = 1 / 8\n",
        "\n",
        "            weighted_twf = normalized_tweet_frequency * weight\n",
        "            emotion_lexicons[emotion][term] = weighted_twf\n",
        "\n",
        "    return emotion_lexicons"
      ],
      "metadata": {
        "id": "S8YljjBAwl-D"
      },
      "execution_count": 15,
      "outputs": []
    },
    {
      "cell_type": "code",
      "source": [
        "emotion_tweets, emotion_unique_terms, all_words = aggregate_tweets_by_emotion(data)\n", "emotion_lexicons = calculate_weighted_twf(emotion_tweets, emotion_unique_terms)"
      ],
      "metadata": {
        "id": "-zWrj1WKznO3"
      },
      "execution_count": 16,
      "outputs": []
    },
    {
      "cell_type": "code",
      "source": [
        "for emotion, lexicons in emotion_lexicons.items():\n",
        "    print(f\"Emotion: {emotion}\")\n",
        "    print(sorted(lexicons.items(), key=lambda x: -x[1])[:50])\n",
        "    print()\n"
      ],
      "metadata": {
        "colab": {
          "base_uri": "https://localhost:8080/"
        },
        "id": "oGLCDPmN8ZYL",
        "outputId": "9278b1d6-6d5f-4721-9911-1e17fa45c89e"
      },
      "execution_count": 20,
      "outputs": [
        {
          "output_type": "stream",
          "name": "stdout",
          "text": [
            "Emotion: joy\n",
            "[('&', 0.003394033692281488), ('others', 0.00328217218156306), ('이', 0.002448111128834721), ('하다', 0.002030742652287112), ('너무', 0.0014785320525471982), ('에', 0.0012446705256071613), ('가', 0.0011294295130543396), ('좋다', 0.0010922549928760101), ('..', 0.0010530527715970444), ('진짜', 0.0009520056667486759), ('보다', 0.0009462605136302068), ('아', 0.0008006039845678428), ('도', 0.0007478837559513027), ('...', 0.0007404488519156368), ('거', 0.0006897563243997329), ('을', 0.0006265596400965726), ('귀엽다', 0.0006096621309246047), ('나', 0.0006056067287233324), ('있다', 0.0006056067287233324), ('들', 0.0005964820737704696), ('다', 0.0005795845645985017), ('는', 0.0005704599096456389), ('같다', 0.000562011155059655), ('의', 0.000528216136715719), ('로', 0.0004153407754469729), ('에서', 0.0004085817717781857), ('때', 0.00040249866847627726), ('아니다', 0.0003943878640737326), ('은', 0.0003926981131565358), ('를', 0.00037242110215017423), ('내', 0.0003616066962801147), ('으로', 0.0003578892442622818), ('.', 0.0003413296852737532), ('되다', 0.0003413296852737532), ('넘다', 0.0003382881336227989), ('웃기다', 0.00032578397683554264), ('고', 0.00032139062445083095), ('사랑', 0.00031970087353363417), ('이다', 0.00030821056729669595), ('만', 0.000304493115278863), ('안', 0.0003041551650954236), ('하', 0.00030246541417822684), ('들다', 0.0002984100119769545), ('한', 0.00029469255995912154), ('개', 0.00028894740684065243), ('말', 0.00028793355629033436), ('것', 0.0002798227518877897), ('게', 0.000279146851520911), ('오늘', 0.0002696842463846089), ('자다', 0.00026867039583429084)]\n",
            "\n",
            "Emotion: surprise\n",
            "[('이', 0.002638193736988971), ('&', 0.0022672409974753066), ('others', 0.0020596181955087034), ('하다', 0.0020014838109580547), ('에', 0.0014948841741595428), ('가', 0.0014505913097400008), ('아니다', 0.0011599193869867564), ('보다', 0.001076870266200115), ('?', 0.0010436506178854586), ('도', 0.0008609425521548478), ('..', 0.0008471010320237409), ('거', 0.0007945032555255349), ('나', 0.0007861983434468707), ('진짜', 0.0007723568233157638), ('...', 0.0007723568233157638), ('있다', 0.0007640519112370997), ('을', 0.0007169907427913363), ('왜', 0.0006201001018735882), ('오다', 0.0005702706294016034), ('뭐', 0.0005508925012180538), ('아', 0.000545355893165611), ('에서', 0.0005370509810869469), ('들', 0.0005370509810869469), ('너무', 0.0005342826770607255), ('를', 0.0005315143730345042), ('안', 0.0005204411569296187), ('는', 0.0005149045488771759), ('게', 0.0005149045488771759), ('다', 0.0005093679408247332), ('신기하다', 0.0005056768687897713), ('야', 0.0004982947247198476), ('되다', 0.00048445320458874073), ('로', 0.00047337998848385527), ('나오다', 0.0004650750764051911), ('은', 0.000456770164326527), ('없다', 0.00045123355627408424), ('같다', 0.0004484652522478629), ('1', 0.0004207822119856491), ('의', 0.00040694069185454225), ('근데', 0.0003986357797758781), ('내', 0.000390330867697214), ('한', 0.0003737210435398857), ('저', 0.00037095273951366436), ('으로', 0.00036818443548744295), ('때', 0.0003543429153563361), ('만', 0.00034880630730389333), ('이다', 0.000346038003277672), ('헐다', 0.0003432696992514506), ('알다', 0.0003405013952252292), ('사람', 0.0003405013952252292)]\n",
            "\n",
            "Emotion: anticipation\n",
            "[('하다', 0.0022712714680737716), ('이', 0.0018978791953119054), ('&', 0.0018178099393693396), ('others', 0.0016655990765874324), ('에', 0.0013358088738933001), ('보다', 0.0013199535756868515), ('가', 0.0010638905096527055), ('..', 0.0010210812044952943), ('...', 0.0009465613029249854), ('도', 0.000868870341713387), ('있다', 0.0007903866155914661), ('좋다', 0.0007475773104340547), ('나', 0.0007245871280347041), ('들', 0.0006873271772495497), ('같다', 0.0006730574088637459), ('을', 0.000642139577361171), ('아', 0.0006365902229889139), ('싶다', 0.0006357974580785916), ('되다', 0.0005866460336386007), ('거', 0.0005866460336386007), ('는', 0.0005795111494456988), ('다', 0.0005739617950734418), ('로', 0.0005248103706334509), ('의', 0.0005097478373373247), ('?', 0.0005097478373373247), ('은', 0.0005034057180547452), ('으로', 0.00047565894619346), ('너무', 0.0004669385321799132), ('안', 0.00046218194271797864), ('에서', 0.0004613891778076562), ('만', 0.0004502904690631421), ('진짜', 0.00044553387960120754), ('해주다', 0.00042333646211217943), ('.', 0.00042175093229153453), ('를', 0.0004090666937263756), ('가다', 0.00039876074989218395), ('아니다', 0.0003892475709683148), ('보고', 0.000380527156954768), ('오늘', 0.00037497780258251095), ('내', 0.0003646718587483193), ('것', 0.0003472310307212258), ('더', 0.0003353395570663893), ('때', 0.00033137573251477715), ('나오다', 0.000327411907963165), ('고', 0.0003258263781425201), ('들다', 0.0003202770237702631), ('없다', 0.0003202770237702631), ('1', 0.0003099710799360714), ('저', 0.000303628960653492), ('한', 0.00029807960628123494)]\n",
            "\n",
            "Emotion: trust\n",
            "[('하다', 0.002696275820037873), ('&', 0.002592886838038439), ('others', 0.0024622902291970487), ('이', 0.0022201423503036373), ('사랑', 0.0016596652373593367), ('..', 0.0011835317676251007), ('너무', 0.0011726487168883181), ('가', 0.0011046296497834274), ('진짜', 0.0010638182095204928), ('을', 0.0010148444812049715), ('에', 0.001003961430468189), ('...', 0.0008706440589426028), ('도', 0.0007971834664693207), ('는', 0.0007781381276799513), ('의', 0.0007454889754696036), ('나', 0.0007073982978908648), ('보다', 0.0007046775352066691), ('들', 0.0006992360098382779), ('있다', 0.0006965152471540822), ('를', 0.0006448207561543652), ('사랑스럽다', 0.0005840570562073294), ('다', 0.0005822432144178656), ('같다', 0.0005169449099971704), ('아', 0.0005006203338919966), ('거', 0.00047341270705004025), ('감사하다', 0.0004570881309448664), ('고맙다', 0.0004539786878772143), ('좋다', 0.0004407635548396927), ('사람', 0.0004353220294713014), ('은', 0.00043260126678710577), ('.', 0.00043260126678710577), ('로', 0.00042988050410291013), ('아니다', 0.00040539363994514943), ('내', 0.00040539363994514943), ('으로', 0.00039178982652417123), ('정말', 0.0003781860131031931), ('말', 0.0003727444877348018), ('수', 0.0003727444877348018), ('되다', 0.0003700237250506062), ('에서', 0.00036730296236641053), ('해주다', 0.00035641991162962803), ('때', 0.00035097838626123675), ('안', 0.0003482576235770411), ('그', 0.0003455368608928455), ('이다', 0.00034281609820864984), ('것', 0.0003292122847876717), ('자다', 0.0003210499967350848), ('언니', 0.00030744618331410663), ('잘', 0.00030744618331410663), ('게', 0.00030744618331410663)]\n",
            "\n",
            "Emotion: disgust\n",
            "[('하다', 0.002370758008246115), ('이', 0.002025848398350777), ('가', 0.0012686330478908975), ('에', 0.001228988265144307), ('보다', 0.0010941960038058991), ('들', 0.0010466222645099904), ('도', 0.0009990485252140819), ('는', 0.0008602917856010149), ('..', 0.0008325404376784015), ('안', 0.0008325404376784015), ('&', 0.0008285759594037424), ('은', 0.0008047890897557882), ('을', 0.00079686013320647), ('진짜', 0.0007334284808119252), ('아니다', 0.000717570567713289), ('없다', 0.0007136060894386299), ('...', 0.0007017126546146527), ('너무', 0.0006818902632413574), ('같다', 0.0006660323501427212), ('다', 0.0006581033935934031), ('나', 0.0006422454804947669), ('있다', 0.0006065651760228354), ('.', 0.0005986362194735173), ('others', 0.0005748493498255629), ('아', 0.0005391690453536315), ('를', 0.0005352045670789724), ('로', 0.0005312400888043134), ('으로', 0.000507453219156359), ('되다', 0.0005034887408816999), ('싫다', 0.0004983915545285669), ('의', 0.0004955597843323818), ('에서', 0.00048763082778306374), ('거', 0.0004757373929590866), ('사람', 0.0004479860450364732), ('?', 0.0004043767840152236), ('못', 0.0003964478274659055), ('근데', 0.00039248334919124645), ('1', 0.00039248334919124645), ('개', 0.0003845543926419283), ('고', 0.00038058991436726926), ('그', 0.00038058991436726926), ('좋다', 0.0003766254360926102), ('만', 0.0003726609578179512), ('좀', 0.00036869647954329213), ('내', 0.00036473200126863303), ('저', 0.00035680304471931494), ('게', 0.0003528385664446559), ('한', 0.0003528385664446559), ('나오다', 0.00034887408816999685), ('왜', 0.00034887408816999685)]\n",
            "\n",
            "Emotion: sadness\n",
            "[('하다', 0.002237633586208322), ('이', 0.0021704529011720448), ('에', 0.0013281104657171796), ('...', 0.0013022717407032266), ('&', 0.001279016888190669), ('가', 0.0012376749281683445), ('보다', 0.001224755565661368), ('others', 0.0011498232631209045), ('..', 0.0010878103230874175), ('나', 0.001002542530541373), ('너무', 0.0009276102280009095), ('도', 0.000816503710440912), ('못', 0.0007674101329144014), ('을', 0.0007415714079004486), ('없다', 0.0006924778303739381), ('있다', 0.0006924778303739381), ('는', 0.0006692229778613804), ('진짜', 0.0006382165078446369), ('들', 0.0006304648903404511), ('아', 0.0006046261653264981), ('안', 0.0005994584203237076), ('아니다', 0.0005865390578167311), ('은', 0.0005607003328027782), ('에서', 0.0005400293527916158), ('만', 0.0005374454802902206), ('다', 0.0005271099902846394), ('거', 0.0005219422452818488), ('내', 0.0005193583727804536), ('의', 0.0005193583727804536), ('ㅠ', 0.0004909357752651053), ('를', 0.0004909357752651053), ('때', 0.0004883519027637101), ('눈물', 0.00048318415776091945), ('.', 0.00047284866775533827), ('ㅠㅠ', 0.000470264795253943), ('되다', 0.000470264795253943), ('같다', 0.00044959381524278065), ('아쉽다', 0.0004409809069047964), ('하', 0.0004160034727246419), ('고', 0.0004134196002232466), ('로', 0.000408251855220456), ('슬프다', 0.00039533249271347953), ('울다', 0.00039016474771068896), ('왜', 0.0003798292577051078), ('가다', 0.0003720776402009219), ('으로', 0.00035915827769394547), ('ㅜㅜ', 0.0003539905326911549), ('한', 0.0003436550426855737), ('보고', 0.0003410711701841784), ('것', 0.0003229840626744114)]\n",
            "\n",
            "Emotion: anger\n",
            "[('하다', 0.002556394632786673), ('이', 0.0019932585726323976), ('에', 0.0013004796784857717), ('가', 0.0012842743242367277), ('들', 0.0011465288131198548), ('아', 0.001004731963440721), ('&', 0.0009966292863161988), ('아니다', 0.0009074998379464575), ('진짜', 0.0009034484993841965), ('안', 0.0008305244052634991), ('보다', 0.0008102677124521942), ('을', 0.0008021650353276723), ('도', 0.0007900110196408894), ('others', 0.0007616516497050626), ('...', 0.0006725222013353212), ('나', 0.0006563168470862773), ('받다', 0.0006482141699617553), ('는', 0.0006320088157127114), ('다', 0.0006279574771504505), ('?', 0.0006036494457768846), ('..', 0.0005995981072146237), ('왜', 0.0005874440915278408), ('없다', 0.0005752900758410579), ('개', 0.0005712387372787969), ('되다', 0.0005469307059052311), ('있다', 0.0005428793673429701), ('은', 0.0005428793673429701), ('를', 0.0005145199974071433), ('거', 0.0004983146431580994), ('만', 0.0004983146431580994), ('못', 0.0004861606274713165), ('내', 0.0004861606274713165), ('로', 0.00046590393466001165), ('하', 0.0004618525960977507), ('에서', 0.0004618525960977507), ('고', 0.0004578012575354897), ('같다', 0.0004578012575354897), ('야', 0.00044969858041096777), ('빡치다', 0.00044911981775921624), ('너무', 0.0004334932261619239), ('짜증나다', 0.00042944188759966296), ('ㅅㅂ', 0.000413236533350619), ('시발', 0.0004091851947883581), ('말', 0.00039703117910157515), ('1', 0.0003808258248525313), ('으로', 0.0003767744862902703), ('게', 0.00037272314772800934), ('뭐', 0.00035651779347896546), ('한', 0.0003484151163544435), ('의', 0.00034436377779218253)]\n",
            "\n",
            "Emotion: fear\n",
            "[('하다', 0.0022811606545410303), ('이', 0.0019237788186629357), ('&', 0.001650039540118012), ('에', 0.0014447350812093194), ('others', 0.0014447350812093194), ('...', 0.0013002615730883873), ('가', 0.0012394306223006265), ('보다', 0.001117768720725105), ('..', 0.0010949571141796947), ('되다', 0.0009352758683618225), ('나', 0.0008896526552710018), ('있다', 0.0008668410487255916), ('같다', 0.0008136139667863009), ('무섭다', 0.0007679907536954802), ('아니다', 0.0007603868848470102), ('너무', 0.0007451791471500699), ('도', 0.0007223675406046597), ('진짜', 0.000669140458665369), ('거', 0.0006615365898168989), ('을', 0.0006615365898168989), ('는', 0.0006235172455745483), ('들', 0.0005854979013321978), ('아', 0.0005778940324837278), ('?', 0.0005778940324837278), ('은', 0.0005702901636352576), ('다', 0.0005702901636352576), ('무서움', 0.0005474785570898473), ('안', 0.0005018553439990267), ('근데', 0.0004866476063020865), ('걱정', 0.0004714398686051463), ('더', 0.0004562321309082061), ('.', 0.0004410243932112659), ('못', 0.0004258166555143257), ('만', 0.0004258166555143257), ('로', 0.0004258166555143257), ('를', 0.0004030050489689154), ('내', 0.0003954011801204453), ('사람', 0.0003954011801204453), ('으로', 0.0003954011801204453), ('에서', 0.00038779731127197516), ('어떡하다', 0.0003801934424235051), ('고', 0.0003801934424235051), ('때', 0.00037258957357503495), ('1', 0.0003649857047265649), ('가다', 0.00035738183587809475), ('없다', 0.00035738183587809475), ('것', 0.00034217409818115455), ('의', 0.00034217409818115455), ('좋다', 0.0003193624916357443), ('하', 0.0003193624916357443)]\n",
            "\n"
          ]
        }
      ]
    },
    {
      "cell_type": "code",
      "source": [
        "for emotion, lexicons in emotion_lexicons.items():\n",
        "    print(f\"Emotion: {emotion}\")\n",
        "    if '귀엽다' in lexicons:\n",
        "        print(f\"Score of '귀엽다': {lexicons['귀엽다']}\")"
      ],
      "metadata": {
        "colab": {
          "base_uri": "https://localhost:8080/"
        },
        "id": "-lfA4jK_8gdK",
        "outputId": "021efe5c-1145-4d27-9435-43a5577426a5"
      },
      "execution_count": 21,
      "outputs": [
        {
          "output_type": "stream",
          "name": "stdout",
          "text": [
            "Emotion: joy\n",
            "Score of '귀엽다': 0.0006096621309246047\n",
            "Emotion: surprise\n",
            "Score of '귀엽다': 1.6609824157328256e-05\n",
            "Emotion: anticipation\n",
            "Score of '귀엽다': 6.738501737740684e-05\n",
            "Emotion: trust\n",
            "Score of '귀엽다': 0.00015780423568334675\n",
            "Emotion: disgust\n",
            "Score of '귀엽다': 5.1538217570567716e-05\n",
            "Emotion: sadness\n",
            "Score of '귀엽다': 2.583872501395291e-05\n",
            "Emotion: anger\n",
            "Score of '귀엽다': 3.241070849808777e-05\n",
            "Emotion: fear\n",
            "Score of '귀엽다': 1.5207737696940203e-05\n"
          ]
        }
      ]
    },
    {
      "cell_type": "code",
      "source": [
        "def get_embeddings(words):\n",
        "    inputs = tokenizer(words, return_tensors=\"pt\", padding=True, truncation=True)\n",
        "    inputs = {key: tensor.to(device) for key, tensor in inputs.items()}\n",
        "    with torch.no_grad():\n",
        "        outputs = model(**inputs)\n",
        "        return outputs.last_hidden_state.mean(dim=1)\n",
        "\n",
        "\n",
        "def find_most_similar(word, all_words):\n",
        "    word_embedding = get_embeddings([word])\n",
        "\n",
        "    similarities = torch.nn.functional.cosine_similarity(word_embedding, all_embeddings, dim=-1)\n",
        "    most_similar_idx = similarities.argmax().item()\n",
        "    return all_words[most_similar_idx]"
      ],
      "metadata": {
        "id": "Oj5k1fae7Go7"
      },
      "execution_count": 22,
      "outputs": []
    },
    {
      "cell_type": "code",
      "source": [
        "batch_size = 32\n",
        "all_embeddings = []\n",
        "\n",
        "\n",
        "for i in range(0, len(all_words), batch_size):\n",
        "    batch_words = all_words[i: i + batch_size]\n",
        "    batch_embeddings = get_embeddings(batch_words)\n",
        "    all_embeddings.append(batch_embeddings)\n",
        "\n",
        "all_embeddings = torch.cat(all_embeddings, dim=0)"
      ],
      "metadata": {
        "id": "YD5ArmKW7IdS"
      },
      "execution_count": 23,
      "outputs": []
    },
    {
      "cell_type": "code",
      "source": [
        "def is_korean(word):\n",
        "    return bool(re.match(r'^(##)?[\\uac00-\\ud7a3]+$', word))"
      ],
      "metadata": {
        "id": "lbqR8SCK7aE9"
      },
      "execution_count": 24,
      "outputs": []
    },
    {
      "cell_type": "code",
      "source": [
        "def replace_word(sentence, target_form, emotion_lexicons, emotion, okt):\n",
        "    words = stem_tokens(sentence, okt)\n",
        "\n",
        "    candidates = []\n",
        "    for word in words:\n",
        "        if word != target_form and is_korean(word):\n",
        "            weighted_twf = emotion_lexicons[emotion].get(word, 0)\n",
        "            candidates.append((word, weighted_twf))\n",
        "\n",
        "    candidates.sort(key=lambda x: x[1])\n",
        "\n",
        "    word_to_replace = candidates[0][0] if candidates else None\n",
        "    if word_to_replace is None:\n",
        "        return sentence  # No candidates found, return original sentence\n",
        "\n",
        "    most_similar_word = find_most_similar(word_to_replace, all_words)\n",
        "\n",
        "    # Replace the stemmed word in the original word list\n",
        "    replaced = False\n",
        "    original_words = okt.morphs(sentence)\n",
        "\n",
        "    # Keep track of the original sentence's spacing\n",
        "    original_sentence_list = list(sentence)\n",
        "    new_sentence_list = []\n",
        "\n",
        "    start_index = 0\n",
        "    for i, original_word in enumerate(original_words):\n",
        "        end_index = start_index + len(original_word)\n",
        "        segment = original_sentence_list[start_index:end_index]\n",
        "\n",
        "        morphs_result = okt.morphs(original_word, stem=True)\n",
        "        if morphs_result and morphs_result[0] == word_to_replace:\n",
        "            segment = list(most_similar_word)\n",
        "            replaced = True\n",
        "\n",
        "        new_sentence_list.extend(segment)\n",
        "\n",
        "        if end_index < len(sentence) and original_sentence_list[end_index] == ' ':\n",
        "            new_sentence_list.append(' ')\n",
        "            end_index += 1\n",
        "\n",
        "        start_index = end_index\n",
        "\n",
        "    # Reassemble the sentence if a word was replaced\n",
        "    if replaced:\n",
        "        new_sentence = \"\".join(new_sentence_list)\n",
        "        return new_sentence\n",
        "    else:\n",
        "        return sentence  # No replacement was made"
      ],
      "metadata": {
        "id": "kLQ6IE5E7b7F"
      },
      "execution_count": 25,
      "outputs": []
    },
    {
      "cell_type": "code",
      "source": [
        "augmented_data = []\n",
        "for item in data:\n",
        "    original_sentence = item['input']['form']\n",
        "    target_form = item['input']['target']['form']\n",
        "    emotion = next(e for e in emotion_labels if item['output'][e] == 'True') # Finding the emotion label\n",
        "    try:\n",
        "        new_sentence = replace_word(original_sentence, target_form, emotion_lexicons, emotion, okt)\n",
        "        item['input']['form'] = new_sentence\n",
        "    except IndexError:\n",
        "        print(f\"Error occurred with the original sentence: {original_sentence}\")\n",
        "\n",
        "    augmented_data.append(item)"
      ],
      "metadata": {
        "id": "JwSKSoo374kO"
      },
      "execution_count": null,
      "outputs": []
    },
    {
      "cell_type": "code",
      "source": [
        "existing_data = []\n",
        "with open('/content/drive/MyDrive/Colab Notebooks/동일감정제거.jsonl', 'r') as f:\n",
        "    for line in f:\n",
        "        existing_data.append(json.loads(line))\n",
        "\n",
        "# augmented_data를 기존 데이터에 추가\n",
        "existing_data.extend(augmented_data)\n",
        "\n",
        "# 새로운 JSONL 파일에 저장\n",
        "with open('동일감정제거_대체1.jsonl', 'w') as f:\n",
        "    for entry in existing_data:\n",
        "        f.write(json.dumps(entry, ensure_ascii=False))\n",
        "        f.write('\\n')\n"
      ],
      "metadata": {
        "id": "KirsolvwreeZ"
      },
      "execution_count": null,
      "outputs": []
    },
    {
      "cell_type": "code",
      "source": [
        "existing_data[-1]"
      ],
      "metadata": {
        "colab": {
          "base_uri": "https://localhost:8080/"
        },
        "id": "g3cgKGtk5GBC",
        "outputId": "3c70042d-66cb-423e-a2c0-6d9f85687663"
      },
      "execution_count": null,
      "outputs": [
        {
          "output_type": "execute_result",
          "data": {
            "text/plain": [
              "{'id': 'nikluge-2023-ea-train-038688',\n",
              " 'input': {'form': '유방댕이...과일가게가면 어른들이 수박 뚜들기는거 보고 본인도 냅다 ㅠㅠㅠㅜㅡㅜㅠㅠㅠㅠㅠㅜㅡㅜㅠㅠㅏ악 두들기다가 한번쯤은 혼났을것 같아 &others&',\n",
              "  'target': {'form': '유방댕이', 'begin': 0, 'end': 4}},\n",
              " 'output': {'joy': 'False',\n",
              "  'anticipation': 'True',\n",
              "  'trust': 'False',\n",
              "  'surprise': 'False',\n",
              "  'disgust': 'False',\n",
              "  'fear': 'False',\n",
              "  'anger': 'False',\n",
              "  'sadness': 'False'}}"
            ]
          },
          "metadata": {},
          "execution_count": 25
        }
      ]
    }
  ]
}
